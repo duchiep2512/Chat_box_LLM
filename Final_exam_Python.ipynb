{
 "cells": [
  {
   "cell_type": "markdown",
   "metadata": {
    "id": "pqHG6FcjlU4q"
   },
   "source": [
    "# Final exam: Python for Data Science"
   ]
  },
  {
   "cell_type": "markdown",
   "metadata": {
    "id": "2G-05mXikUm3"
   },
   "source": [
    "## Task 1: LLM integration"
   ]
  },
  {
   "cell_type": "markdown",
   "metadata": {
    "id": "m8SbCGmB0esv"
   },
   "source": [
    "### 1.1 Single Text Translation"
   ]
  },
  {
   "cell_type": "code",
   "execution_count": 3,
   "metadata": {
    "id": "Hd1YTpeBfvG1"
   },
   "outputs": [],
   "source": [
    "import json\n",
    "import random\n",
    "import time\n",
    "import textwrap\n",
    "import numpy as np\n",
    "import requests\n",
    "import bs4\n",
    "from bs4 import BeautifulSoup\n",
    "from time import sleep\n",
    "from IPython.display import Markdown\n",
    "import warnings\n",
    "\n",
    "warnings.filterwarnings(\"ignore\")\n",
    "\n",
    "from selenium import webdriver\n",
    "from selenium.webdriver.chrome.options import Options\n",
    "from selenium.webdriver.common.by import By\n",
    "\n",
    "from sentence_transformers import SentenceTransformer\n",
    "from sklearn.metrics.pairwise import cosine_similarity\n",
    "import google.generativeai as genai"
   ]
  },
  {
   "cell_type": "code",
   "execution_count": 4,
   "metadata": {
    "id": "Gimbu3MRncO3"
   },
   "outputs": [],
   "source": [
    "genai.configure(api_key=\"Your_API\")"
   ]
  },
  {
   "cell_type": "code",
   "execution_count": 5,
   "metadata": {
    "id": "Tjcem43qr6Fe"
   },
   "outputs": [],
   "source": [
    "generator_config = {\n",
    "    \"temperature\": 0,\n",
    "    \"top_k\": 24,\n",
    "    \"top_p\": 0.8,\n",
    "    \"max_output_tokens\": 8192,\n",
    "}\n",
    "\n",
    "model = genai.GenerativeModel(\n",
    "    model_name=\"models/gemini-1.5-flash-8b-latest\",\n",
    "    generation_config=generator_config,\n",
    ")\n"
   ]
  },
  {
   "cell_type": "code",
   "execution_count": 6,
   "metadata": {
    "id": "uqwty9TtkQ-C"
   },
   "outputs": [],
   "source": [
    "# Function to create the translation prompt\n",
    "def create_translation_prompt(sentence, target_language):\n",
    "    return (\n",
    "        \"Here is how to handle translations:  \\n\"\n",
    "        \"Input: \\\"Hello, my name is John\\\" in English. Target language: Vietnamese.  \\n\"\n",
    "        \"Output: \\\"Xin chào, tôi tên là John\\\".  \\n\\n\"\n",
    "        \"Input: \\\"chào tôi tên Trang\\\" in Vietnamese. Target language: Vietnamese.  \\n\"\n",
    "        \"Output: \\\"chào tôi tên Trang\\\".  \\n\\n\"\n",
    "        \"Now translate the following sentence:  \\n\"\n",
    "        f\"Input: \\\"{sentence}\\\". Target language: {target_language}.  \\n\"\n",
    "        \"Output:\"\n",
    "    )\n",
    "\n",
    "# Clean up model's response to remove unwanted words\n",
    "def clean_response(response_text):\n",
    "    return response_text.replace(\"Output: \", \"\").strip()\n",
    "\n",
    "# Single Text Translation\n",
    "def translate_text(sentence, target_language):\n",
    "    prompt = create_translation_prompt(sentence, target_language=target_language)\n",
    "\n",
    "    try:\n",
    "        response = model.generate_content(prompt)\n",
    "        return clean_response(response.text)\n",
    "    except Exception as e:\n",
    "        print(f\"Error translating text: {sentence}. Error: {e}\")\n",
    "        return f\"Error: {e}\"\n",
    "\n",
    "# Multiple Text Translation\n",
    "def translate_sentences(sentences, target_language=\"Vietnamese\"):\n",
    "    translations = []\n",
    "\n",
    "    for sentence in sentences:\n",
    "        prompt = create_translation_prompt(sentence, target_language)\n",
    "\n",
    "        try:\n",
    "            response = model.generate_content(prompt)\n",
    "            translations.append(clean_response(response.text))\n",
    "        except Exception as e:\n",
    "            print(f\"Error translating sentence: {sentence}. Error: {e}\")\n",
    "            translations.append(f\"Error: {e}\")\n",
    "\n",
    "    return translations\n"
   ]
  },
  {
   "cell_type": "code",
   "execution_count": 7,
   "metadata": {
    "colab": {
     "base_uri": "https://localhost:8080/",
     "height": 208
    },
    "id": "BBIUqsnV1NRI",
    "outputId": "15d9c6c4-52b1-4597-e608-9068c2d8262c"
   },
   "outputs": [
    {
     "name": "stdout",
     "output_type": "stream",
     "text": [
      "1. Enlish\n",
      "2. French\n",
      "3. Vietnamese\n",
      "4. Portuguese\n",
      "5. German\n",
      "6. Thai\n",
      "7. Russian\n",
      "Nhập vào ngôn ngữ cần dịch dịch từ ngôn ngữ trên:\n",
      "3\n",
      "\n",
      "Câu sau khi dịch: \"Xin chào, tên tôi là Robert, tôi sống ở vùng nông thôn và chưa từng đến nơi nào đẹp như thế này, tôi đến từ Hà Nội.\"\n"
     ]
    }
   ],
   "source": [
    "list_language = [\"Enlish\", \"French\", \"Vietnamese\", \"Portuguese\", \"German\", \"Thai\", \"Russian\"]\n",
    "for i in range(len(list_language)):\n",
    "    print(f\"{i + 1}. {list_language[i]}\")\n",
    "\n",
    "target_language = input(\"Nhập vào ngôn ngữ cần dịch dịch từ ngôn ngữ trên:\\n\")\n",
    "\n",
    "idx_target_language = int(target_language) - 1\n",
    "\n",
    "target_lang = list_language[idx_target_language]\n",
    "\n",
    "single_text = \"Hello, my name is Robert, I live in a rural area and have never been to a place as beautiful as this, tôi đến từ Hà Nội.\"\n",
    "\n",
    "translated_text = translate_text(single_text, target_lang)\n",
    "print(f\"\\nCâu sau khi dịch: {translated_text}\")"
   ]
  },
  {
   "cell_type": "markdown",
   "metadata": {
    "id": "JAz_9pPOCC3U"
   },
   "source": [
    "## 1.2 Multiple Text Translation"
   ]
  },
  {
   "cell_type": "code",
   "execution_count": 8,
   "metadata": {
    "colab": {
     "base_uri": "https://localhost:8080/",
     "height": 382
    },
    "id": "wNkXfz_6ptqi",
    "outputId": "1321b067-96c3-4eff-9e1e-8367e1962625"
   },
   "outputs": [
    {
     "name": "stdout",
     "output_type": "stream",
     "text": [
      "1. Enlish\n",
      "2. French\n",
      "3. Vietnamese\n",
      "4. Portuguese\n",
      "5. German\n",
      "6. Thai\n",
      "7. Russian\n",
      "Nhập vào ngôn ngữ cần dịch dịch từ ngôn ngữ trên:\n",
      "3\n",
      "\n",
      "Original: Helo, my name is Dũng, you can call me Daniel.\n",
      "Translated: \"Chào, tên tôi là Dũng, bạn có thể gọi tôi là Daniel.\"\n",
      "\n",
      "Original: I'm studying in University of Science.\n",
      "Translated: \"Tôi đang học tại Đại học Khoa học.\"\n",
      "\n",
      "Original: My english not good, vì thế mà tôi nói tiếng việt sẽ dễ hơn.\n",
      "Translated: \"Tiếng Anh của tôi không tốt, vì thế mà tôi nói tiếng Việt sẽ dễ hơn.\"\n",
      "\n",
      "Original: 저는 현재 데이터 과학을 공부하고 있습니다.\n",
      "Translated: Tôi hiện đang học khoa học dữ liệu.\n"
     ]
    }
   ],
   "source": [
    "sentenses = [\n",
    "    \"Helo, my name is Dũng, you can call me Daniel.\",\n",
    "    \"I'm studying in University of Science.\",\n",
    "    \"My english not good, vì thế mà tôi nói tiếng việt sẽ dễ hơn.\",\n",
    "    \"저는 현재 데이터 과학을 공부하고 있습니다.\"\n",
    "]\n",
    "\n",
    "for i in range(len(list_language)):\n",
    "    print(f\"{i + 1}. {list_language[i]}\")\n",
    "\n",
    "idx_target_language = int(input(\"Nhập vào ngôn ngữ cần dịch dịch từ ngôn ngữ trên:\\n\")) - 1\n",
    "target_language = list_language[idx_target_language]\n",
    "\n",
    "translated_sentences = translate_sentences(sentenses, target_language)\n",
    "\n",
    "for original, translated in zip(sentenses, translated_sentences):\n",
    "    print(f\"\\nOriginal: {original}\\nTranslated: {translated}\")\n"
   ]
  },
  {
   "cell_type": "markdown",
   "metadata": {
    "id": "oJQE1JCVCI5b"
   },
   "source": [
    "## Task 2"
   ]
  },
  {
   "cell_type": "markdown",
   "metadata": {
    "id": "5k_BlE1qCN6L"
   },
   "source": [
    "### 2.1 Data Access and Indexing"
   ]
  },
  {
   "cell_type": "markdown",
   "metadata": {
    "id": "BgpLMRTMjvEx"
   },
   "source": [
    "Parsing data"
   ]
  },
  {
   "cell_type": "code",
   "execution_count": 9,
   "metadata": {
    "colab": {
     "base_uri": "https://localhost:8080/"
    },
    "id": "OR-mUQZ3zZiw",
    "outputId": "80d6818d-b0ed-4a16-c2d2-1e9086979f02"
   },
   "outputs": [],
   "source": [
    "from selenium import webdriver\n",
    "from selenium.webdriver.chrome.options import Options\n",
    "from selenium.webdriver.common.by import By\n",
    "import time\n",
    "import random\n",
    "\n",
    "# Configure Chrome options for headless browsing\n",
    "chrome_options = Options()\n",
    "chrome_options.add_argument(\"--headless\")  # Run Chrome in headless mode\n",
    "chrome_options.add_argument(\"--no-sandbox\")  # Bypass OS security model\n",
    "chrome_options.add_argument(\"--disable-dev-shm-usage\")  # Overcome limited resource issues\n",
    "chrome_options.add_argument(\"--disable-gpu\")  # Disable GPU hardware acceleration\n",
    "\n",
    "# Specify the Chrome driver path\n",
    "chrome_options.add_argument(\"webdriver.chrome.driver=/usr/lib/chromium-browser/chromedriver\")\n",
    "driver = webdriver.Chrome(options=chrome_options)\n",
    "\n",
    "# Open the target webpage\n",
    "url = \"https://www.presight.io/privacy-policy.html\"\n",
    "driver.get(url)\n",
    "\n",
    "# Wait for a random duration to mimic human behavior\n",
    "time.sleep(random.randint(5, 10))\n",
    "\n",
    "# Locate the target div element using CSS selector\n",
    "css_selector = \"div.css-fugq39\"\n",
    "div_element = driver.find_element(By.CSS_SELECTOR, css_selector)\n",
    "\n",
    "# Extract the inner HTML content of the div\n",
    "div_html = div_element.get_attribute(\"innerHTML\")\n",
    "\n",
    "driver.quit()\n"
   ]
  },
  {
   "cell_type": "code",
   "execution_count": 11,
   "metadata": {
    "colab": {
     "base_uri": "https://localhost:8080/"
    },
    "id": "uljuL0Gnx97e",
    "outputId": "9338b32c-6380-4861-ae9c-1da87b612dbb",
    "scrolled": false
   },
   "outputs": [
    {
     "name": "stdout",
     "output_type": "stream",
     "text": [
      "<div class=\"chakra-stack css-1uji4px\">\n",
      " <h2 class=\"chakra-heading css-dhb2ck\">\n",
      "  PRIVACY POLICY\n",
      " </h2>\n",
      " <h2 class=\"chakra-heading css-18j379d\">\n",
      "  Last updated 15 Sep 2023\n",
      " </h2>\n",
      " <hr aria-orientation=\"horizontal\" class=\"chakra-divider css-svjswr\"/>\n",
      " <div class=\"chakra-stack css-lcbvq9\">\n",
      "  <p class=\"chakra-text css-0\">\n",
      "   At Presight, we are committed to protecting the privacy of our customers and visitors to our website. This Privacy Policy explains how we collect, use, and disclose information about our customers and visitors.\n",
      "  </p>\n",
      "  <div class=\"chakra-stack css-o5l3sd\">\n",
      "   <h2 class=\"chakra-heading css-18j379d\">\n",
      "    Information Collection and Use\n",
      "   </h2>\n",
      "   <p class=\"chakra-text css-0\">\n",
      "    We collect several different types of information for various purposes to provide and improve our Service to you.\n",
      "   </p>\n",
      "  </div>\n",
      "  <div class=\"chakra-stack css-o5l3sd\">\n",
      "   <h2 class=\"chakra-heading css-18j379d\">\n",
      "    Types of Data Collected\n",
      "   </h2>\n",
      "   <div class=\"chakra-stack css-bel3sh\">\n",
      "    <div class=\"css-0\">\n",
      "     <i class=\"chakra-heading css-9f6g39\">\n",
      "      Personal Data\n",
      "     </i>\n",
      "     <p class=\"chakra-text css-0\">\n",
      "      While using our Service, we may ask you to provide us with certain personally identifiable information that can be used to contact or identify you (\"Personal Data\"). Personally identifiable information may include, but is not limited to:\n",
      "     </p>\n",
      "     <ul class=\"css-qcqkus\">\n",
      "      <li class=\"css-0\">\n",
      "       Email address\n",
      "      </li>\n",
      "      <li class=\"css-0\">\n",
      "       First name and last name\n",
      "      </li>\n",
      "      <li class=\"css-0\">\n",
      "       Phone number\n",
      "      </li>\n",
      "      <li class=\"css-0\">\n",
      "       Address, State, Province, ZIP/Postal code, City\n",
      "      </li>\n",
      "      <li class=\"css-0\">\n",
      "       Cookies and Usage Data\n",
      "      </li>\n",
      "     </ul>\n",
      "    </div>\n",
      "    <div class=\"css-0\">\n",
      "     <i class=\"chakra-heading css-9f6g39\">\n",
      "      Usage Data\n",
      "     </i>\n",
      "     <p class=\"chakra-text css-0\">\n",
      "      We may also collect information that your browser sends whenever you visit our Service or when you access the Service by or through a mobile device (\"Usage Data\"). This Usage Data may include information such as your computer's Internet Protocol address (e.g. IP address), browser type, browser version, the pages of our Service that you visit, the time and date of your visit, the time spent on those pages, unique device identifiers, and other diagnostic data.\n",
      "     </p>\n",
      "    </div>\n",
      "   </div>\n",
      "  </div>\n",
      "  <div class=\"chakra-stack css-o5l3sd\">\n",
      "   <h2 class=\"chakra-heading css-18j379d\">\n",
      "    Use of Data\n",
      "   </h2>\n",
      "   <p class=\"chakra-text css-0\">\n",
      "    Presight uses the collected data for various purposes:\n",
      "   </p>\n",
      "   <ul class=\"css-i1js5q\">\n",
      "    <li class=\"css-0\">\n",
      "     To provide and maintain our Service\n",
      "    </li>\n",
      "    <li class=\"css-0\">\n",
      "     To notify you about changes to our Service\n",
      "    </li>\n",
      "    <li class=\"css-0\">\n",
      "     To allow you to participate in interactive features of our Service when you choose to do so\n",
      "    </li>\n",
      "    <li class=\"css-0\">\n",
      "     To provide customer support\n",
      "    </li>\n",
      "    <li class=\"css-0\">\n",
      "     To gather analysis or valuable information so that we can improve our Service\n",
      "    </li>\n",
      "    <li class=\"css-0\">\n",
      "     To monitor the usage of our Service\n",
      "    </li>\n",
      "    <li class=\"css-0\">\n",
      "     To detect, prevent and address technical issues\n",
      "    </li>\n",
      "   </ul>\n",
      "  </div>\n",
      "  <div class=\"chakra-stack css-o5l3sd\">\n",
      "   <h2 class=\"chakra-heading css-18j379d\">\n",
      "    Consent\n",
      "   </h2>\n",
      "   <p class=\"chakra-text css-0\">\n",
      "    As personal information is collected, you will be asked to confirm that your information is correct prior to submitting it to Presight.\n",
      "   </p>\n",
      "  </div>\n",
      "  <div class=\"chakra-stack css-o5l3sd\">\n",
      "   <h2 class=\"chakra-heading css-18j379d\">\n",
      "    Access to Personal Information\n",
      "   </h2>\n",
      "   <div class=\"chakra-stack css-1rh933v\">\n",
      "    <h2 class=\"chakra-heading css-9f6g39\">\n",
      "     Accessing Your Personal Information\n",
      "    </h2>\n",
      "    <p class=\"chakra-text css-0\">\n",
      "     You have the right to access all of your personal information that we hold. Through the application, you can correct, amend, or append your personal information by logging into the application and navigating to your settings and profile.\n",
      "    </p>\n",
      "    <h2 class=\"chakra-heading css-9f6g39\">\n",
      "     Automated Edit Checks\n",
      "    </h2>\n",
      "    <p class=\"chakra-text css-0\">\n",
      "     Presight employs automated edit checks to ensure that data entry fields are completed properly when collecting personal information. These edit checks help maintain data integrity and accuracy. You are encouraged to provide complete and valid information to ensure the smooth processing of their personal data.\n",
      "    </p>\n",
      "   </div>\n",
      "  </div>\n",
      "  <div class=\"chakra-stack css-o5l3sd\">\n",
      "   <h2 class=\"chakra-heading css-18j379d\">\n",
      "    Disclosure of Information\n",
      "   </h2>\n",
      "   <p class=\"chakra-text css-0\">\n",
      "    We may disclose your application data to third-party service providers who help us provide our services such as Datadog, AWS, Google Cloud and Google Workspace. We may also disclose your information in response to a legal request, such as a subpoena or court order, or to protect our rights or the rights of others.\n",
      "   </p>\n",
      "  </div>\n",
      "  <div class=\"chakra-stack css-o5l3sd\">\n",
      "   <h2 class=\"chakra-heading css-18j379d\">\n",
      "    Sharing of Personal Data\n",
      "   </h2>\n",
      "   <p class=\"chakra-text css-0\">\n",
      "    Your personal data will not be subject to sharing, transfer, rental or exchange for the benefit of third parties, including AI models.\n",
      "   </p>\n",
      "  </div>\n",
      "  <div class=\"chakra-stack css-o5l3sd\">\n",
      "   <h2 class=\"chakra-heading css-18j379d\">\n",
      "    Google User Data and Google Workspace APIs\n",
      "   </h2>\n",
      "   <p class=\"chakra-text css-0\">\n",
      "    In all cases when users authenticate the platform to Google Workspace, the following applies:\n",
      "   </p>\n",
      "   <ul class=\"css-i1js5q\">\n",
      "    <li class=\"css-0\">\n",
      "     We do not retain or use Google User Data to develop, improve, or train generalized/non-personalized AI and/or ML models.\n",
      "    </li>\n",
      "    <li class=\"css-0\">\n",
      "     We do not use Google Workspace APIs to develop, improve, or train generalized/non-personalized AI and/or ML models.\n",
      "    </li>\n",
      "    <li class=\"css-0\">\n",
      "     We do not transfer Google User Data to third-party AI tools for the purpose of developing, improving, or training generalized or non-personalized AI and/or ML models.\n",
      "    </li>\n",
      "   </ul>\n",
      "  </div>\n",
      "  <div class=\"chakra-stack css-o5l3sd\">\n",
      "   <h2 class=\"chakra-heading css-18j379d\">\n",
      "    Data Security\n",
      "   </h2>\n",
      "   <ul class=\"css-i1js5q\">\n",
      "    <li class=\"css-0\">\n",
      "     All data is encrypted both in transit and at rest, using industry-standard encryption methods.\n",
      "    </li>\n",
      "    <li class=\"css-0\">\n",
      "     We regularly perform security audits and vulnerability assessments to ensure the safety of our platform and the data stored within it.\n",
      "    </li>\n",
      "    <li class=\"css-0\">\n",
      "     Our employees are trained on best practices for data security, and access to customer data is restricted on a need-to-know basis.\n",
      "    </li>\n",
      "   </ul>\n",
      "  </div>\n",
      "  <div class=\"chakra-stack css-o5l3sd\">\n",
      "   <h2 class=\"chakra-heading css-18j379d\">\n",
      "    Data Retention &amp; Disposal\n",
      "   </h2>\n",
      "   <p class=\"chakra-text css-0\">\n",
      "    Customer data is retained for as long as the account is in active status. Data enters an “expired” state when the account is voluntarily closed. Expired account data will be retained for 60 days. After this period, the account and related data will be removed.\n",
      "   </p>\n",
      "  </div>\n",
      "  <div class=\"chakra-stack css-o5l3sd\">\n",
      "   <h2 class=\"chakra-heading css-18j379d\">\n",
      "    Quality, Including Data Subjects' Responsibilities for Quality\n",
      "   </h2>\n",
      "   <ul class=\"css-i1js5q\">\n",
      "    <li class=\"css-0\">\n",
      "     We are committed to maintaining the quality and accuracy of the personal information we collect and process.\n",
      "    </li>\n",
      "    <li class=\"css-0\">\n",
      "     We rely on data subjects to provide accurate and up-to-date information.\n",
      "    </li>\n",
      "    <li class=\"css-0\">\n",
      "     Data subjects have the responsibility to inform us of any changes or inaccuracies in their personal data.\n",
      "    </li>\n",
      "    <li class=\"css-0\">\n",
      "     If you believe that any information we hold about you is inaccurate, incomplete, or outdated, please contact us promptly to rectify the information.\n",
      "    </li>\n",
      "   </ul>\n",
      "  </div>\n",
      "  <div class=\"chakra-stack css-o5l3sd\">\n",
      "   <h2 class=\"chakra-heading css-18j379d\">\n",
      "    Monitoring and Enforcement\n",
      "   </h2>\n",
      "   <ul class=\"css-i1js5q\">\n",
      "    <li class=\"css-0\">\n",
      "     We regularly monitor its data processing activities to ensure compliance with this privacy policy and applicable data protection laws.\n",
      "    </li>\n",
      "    <li class=\"css-0\">\n",
      "     In the event of a data breach or any unauthorized access to your personal information, we will notify you and the appropriate authorities as required by law.\n",
      "    </li>\n",
      "    <li class=\"css-0\">\n",
      "     We committed to cooperating with data protection authorities and complying with their advice and decisions regarding data protection and privacy matters.\n",
      "    </li>\n",
      "   </ul>\n",
      "  </div>\n",
      "  <div class=\"chakra-stack css-o5l3sd\">\n",
      "   <h2 class=\"chakra-heading css-18j379d\">\n",
      "    Cookies\n",
      "   </h2>\n",
      "   <p class=\"chakra-text css-0\">\n",
      "    We use cookies to enhance your experience on our website. You can control the use of cookies through your web browser settings.\n",
      "   </p>\n",
      "  </div>\n",
      "  <div class=\"chakra-stack css-o5l3sd\">\n",
      "   <h2 class=\"chakra-heading css-18j379d\">\n",
      "    Third-Party Websites\n",
      "   </h2>\n",
      "   <p class=\"chakra-text css-0\">\n",
      "    Our website may contain links to third-party websites. We are not responsible for the privacy practices or content of those websites.\n",
      "   </p>\n",
      "  </div>\n",
      "  <div class=\"chakra-stack css-o5l3sd\">\n",
      "   <h2 class=\"chakra-heading css-18j379d\">\n",
      "    Changes to Privacy Policy\n",
      "   </h2>\n",
      "   <p class=\"chakra-text css-0\">\n",
      "    We may update this Privacy Policy from time to time. The updated Privacy Policy will be posted on our website.\n",
      "   </p>\n",
      "  </div>\n",
      "  <div class=\"chakra-stack css-o5l3sd\">\n",
      "   <h2 class=\"chakra-heading css-18j379d\">\n",
      "    Contact Us\n",
      "   </h2>\n",
      "   <p class=\"chakra-text css-0\">\n",
      "    If you have any questions about this Privacy Policy, please contact us through the customer portal or by email at\n",
      "    <!-- -->\n",
      "    <span class=\"css-glrzqe\">\n",
      "     presight@presight.io.\n",
      "    </span>\n",
      "   </p>\n",
      "  </div>\n",
      "  <div class=\"chakra-stack css-o5l3sd\">\n",
      "   <h2 class=\"chakra-heading css-18j379d\">\n",
      "    Purposeful Use Only\n",
      "   </h2>\n",
      "   <p class=\"chakra-text css-0\">\n",
      "    We commit to only use personal information for the purposes identified in the entity's privacy policy.\n",
      "   </p>\n",
      "  </div>\n",
      " </div>\n",
      "</div>\n"
     ]
    }
   ],
   "source": [
    "soup = BeautifulSoup(div_html, \"html.parser\")\n",
    "pretty_html = soup.prettify()\n",
    "print(pretty_html)\n"
   ]
  },
  {
   "cell_type": "code",
   "execution_count": 12,
   "metadata": {
    "id": "_jojTtJcx95S"
   },
   "outputs": [],
   "source": [
    "# Dictionary to store structured data\n",
    "indexed_data = {}\n",
    "current_heading = None\n",
    "\n",
    "# Iterate through all relevant HTML elements\n",
    "for element in soup.find_all([\"h2\", \"p\", \"i\", \"ul\"]):\n",
    "\n",
    "    # Detect a new heading (h2) and initialize a new section\n",
    "    if element.name == \"h2\":\n",
    "        current_heading = element.get_text(strip=True)\n",
    "        if current_heading not in indexed_data:\n",
    "            indexed_data[current_heading] = {\n",
    "                \"content\": [],  # Stores paragraph content and list items\n",
    "                \"subheaders\": []  # Stores subheaders (italic text with details)\n",
    "            }\n",
    "\n",
    "    # If the element is a paragraph (p), add its text to the current section\n",
    "    elif element.name == \"p\" and current_heading:\n",
    "        indexed_data[current_heading][\"content\"].append(element.get_text(strip=True))\n",
    "\n",
    "    # If the element is an unordered list (ul), extract all list items\n",
    "    elif element.name == \"ul\" and current_heading:\n",
    "        list_items = [li.get_text(strip=True) for li in element.find_all(\"li\")]\n",
    "        indexed_data[current_heading][\"content\"].extend(list_items)\n",
    "\n",
    "    # If the element is an italic tag (i), treat it as a subheader\n",
    "    elif element.name == \"i\" and current_heading:\n",
    "        subheader_title = element.get_text(strip=True)\n",
    "        subheader_content = element.find_next_sibling(\"p\").get_text(strip=True) if element.find_next_sibling(\"p\") else \"\"\n",
    "        subheader_list = []\n",
    "\n",
    "        # Check if there's a list (ul) following the subheader and extract items\n",
    "        sibling_ul = element.find_next_sibling(\"ul\")\n",
    "        if sibling_ul:\n",
    "            subheader_list = [li.get_text(strip=True) for li in sibling_ul.find_all(\"li\")]\n",
    "\n",
    "        # Append subheader details to the current heading's subheaders list\n",
    "        indexed_data[current_heading][\"subheaders\"].append({\n",
    "            \"Title\": subheader_title,\n",
    "            \"Content\": subheader_content,\n",
    "            \"List\": subheader_list\n",
    "        })\n"
   ]
  },
  {
   "cell_type": "code",
   "execution_count": 13,
   "metadata": {
    "id": "Hg8fsdeBgouB"
   },
   "outputs": [],
   "source": [
    "# Convert the dictionary into a structured list format\n",
    "indexed_list = [\n",
    "    {\n",
    "        \"heading\": heading,\n",
    "        \"content\": \" \".join(data[\"content\"]),  # Merge paragraph texts and list items\n",
    "        \"subheaders\": data[\"subheaders\"]\n",
    "    }\n",
    "    for heading, data in indexed_data.items()\n",
    "]\n"
   ]
  },
  {
   "cell_type": "code",
   "execution_count": 14,
   "metadata": {
    "scrolled": false
   },
   "outputs": [
    {
     "data": {
      "text/plain": [
       "[{'heading': 'PRIVACY POLICY', 'content': '', 'subheaders': []},\n",
       " {'heading': 'Last updated 15 Sep 2023',\n",
       "  'content': 'At Presight, we are committed to protecting the privacy of our customers and visitors to our website. This Privacy Policy explains how we collect, use, and disclose information about our customers and visitors.',\n",
       "  'subheaders': []},\n",
       " {'heading': 'Information Collection and Use',\n",
       "  'content': 'We collect several different types of information for various purposes to provide and improve our Service to you.',\n",
       "  'subheaders': []},\n",
       " {'heading': 'Types of Data Collected',\n",
       "  'content': 'While using our Service, we may ask you to provide us with certain personally identifiable information that can be used to contact or identify you (\"Personal Data\"). Personally identifiable information may include, but is not limited to: Email address First name and last name Phone number Address, State, Province, ZIP/Postal code, City Cookies and Usage Data We may also collect information that your browser sends whenever you visit our Service or when you access the Service by or through a mobile device (\"Usage Data\"). This Usage Data may include information such as your computer\\'s Internet Protocol address (e.g. IP address), browser type, browser version, the pages of our Service that you visit, the time and date of your visit, the time spent on those pages, unique device identifiers, and other diagnostic data.',\n",
       "  'subheaders': [{'Title': 'Personal Data',\n",
       "    'Content': 'While using our Service, we may ask you to provide us with certain personally identifiable information that can be used to contact or identify you (\"Personal Data\"). Personally identifiable information may include, but is not limited to:',\n",
       "    'List': ['Email address',\n",
       "     'First name and last name',\n",
       "     'Phone number',\n",
       "     'Address, State, Province, ZIP/Postal code, City',\n",
       "     'Cookies and Usage Data']},\n",
       "   {'Title': 'Usage Data',\n",
       "    'Content': 'We may also collect information that your browser sends whenever you visit our Service or when you access the Service by or through a mobile device (\"Usage Data\"). This Usage Data may include information such as your computer\\'s Internet Protocol address (e.g. IP address), browser type, browser version, the pages of our Service that you visit, the time and date of your visit, the time spent on those pages, unique device identifiers, and other diagnostic data.',\n",
       "    'List': []}]},\n",
       " {'heading': 'Use of Data',\n",
       "  'content': 'Presight uses the collected data for various purposes: To provide and maintain our Service To notify you about changes to our Service To allow you to participate in interactive features of our Service when you choose to do so To provide customer support To gather analysis or valuable information so that we can improve our Service To monitor the usage of our Service To detect, prevent and address technical issues',\n",
       "  'subheaders': []},\n",
       " {'heading': 'Consent',\n",
       "  'content': 'As personal information is collected, you will be asked to confirm that your information is correct prior to submitting it to Presight.',\n",
       "  'subheaders': []},\n",
       " {'heading': 'Access to Personal Information',\n",
       "  'content': '',\n",
       "  'subheaders': []},\n",
       " {'heading': 'Accessing Your Personal Information',\n",
       "  'content': 'You have the right to access all of your personal information that we hold. Through the application, you can correct, amend, or append your personal information by logging into the application and navigating to your settings and profile.',\n",
       "  'subheaders': []},\n",
       " {'heading': 'Automated Edit Checks',\n",
       "  'content': 'Presight employs automated edit checks to ensure that data entry fields are completed properly when collecting personal information. These edit checks help maintain data integrity and accuracy. You are encouraged to provide complete and valid information to ensure the smooth processing of their personal data.',\n",
       "  'subheaders': []},\n",
       " {'heading': 'Disclosure of Information',\n",
       "  'content': 'We may disclose your application data to third-party service providers who help us provide our services such as Datadog, AWS, Google Cloud and Google Workspace. We may also disclose your information in response to a legal request, such as a subpoena or court order, or to protect our rights or the rights of others.',\n",
       "  'subheaders': []},\n",
       " {'heading': 'Sharing of Personal Data',\n",
       "  'content': 'Your personal data will not be subject to sharing, transfer, rental or exchange for the benefit of third parties, including AI models.',\n",
       "  'subheaders': []},\n",
       " {'heading': 'Google User Data and Google Workspace APIs',\n",
       "  'content': 'In all cases when users authenticate the platform to Google Workspace, the following applies: We do not retain or use Google User Data to develop, improve, or train generalized/non-personalized AI and/or ML models. We do not use Google Workspace APIs to develop, improve, or train generalized/non-personalized AI and/or ML models. We do not transfer Google User Data to third-party AI tools for the purpose of developing, improving, or training generalized or non-personalized AI and/or ML models.',\n",
       "  'subheaders': []},\n",
       " {'heading': 'Data Security',\n",
       "  'content': 'All data is encrypted both in transit and at rest, using industry-standard encryption methods. We regularly perform security audits and vulnerability assessments to ensure the safety of our platform and the data stored within it. Our employees are trained on best practices for data security, and access to customer data is restricted on a need-to-know basis.',\n",
       "  'subheaders': []},\n",
       " {'heading': 'Data Retention & Disposal',\n",
       "  'content': 'Customer data is retained for as long as the account is in active status. Data enters an “expired” state when the account is voluntarily closed. Expired account data will be retained for 60 days. After this period, the account and related data will be removed.',\n",
       "  'subheaders': []},\n",
       " {'heading': \"Quality, Including Data Subjects' Responsibilities for Quality\",\n",
       "  'content': 'We are committed to maintaining the quality and accuracy of the personal information we collect and process. We rely on data subjects to provide accurate and up-to-date information. Data subjects have the responsibility to inform us of any changes or inaccuracies in their personal data. If you believe that any information we hold about you is inaccurate, incomplete, or outdated, please contact us promptly to rectify the information.',\n",
       "  'subheaders': []},\n",
       " {'heading': 'Monitoring and Enforcement',\n",
       "  'content': 'We regularly monitor its data processing activities to ensure compliance with this privacy policy and applicable data protection laws. In the event of a data breach or any unauthorized access to your personal information, we will notify you and the appropriate authorities as required by law. We committed to cooperating with data protection authorities and complying with their advice and decisions regarding data protection and privacy matters.',\n",
       "  'subheaders': []},\n",
       " {'heading': 'Cookies',\n",
       "  'content': 'We use cookies to enhance your experience on our website. You can control the use of cookies through your web browser settings.',\n",
       "  'subheaders': []},\n",
       " {'heading': 'Third-Party Websites',\n",
       "  'content': 'Our website may contain links to third-party websites. We are not responsible for the privacy practices or content of those websites.',\n",
       "  'subheaders': []},\n",
       " {'heading': 'Changes to Privacy Policy',\n",
       "  'content': 'We may update this Privacy Policy from time to time. The updated Privacy Policy will be posted on our website.',\n",
       "  'subheaders': []},\n",
       " {'heading': 'Contact Us',\n",
       "  'content': 'If you have any questions about this Privacy Policy, please contact us through the customer portal or by email atpresight@presight.io.',\n",
       "  'subheaders': []},\n",
       " {'heading': 'Purposeful Use Only',\n",
       "  'content': \"We commit to only use personal information for the purposes identified in the entity's privacy policy.\",\n",
       "  'subheaders': []}]"
      ]
     },
     "execution_count": 14,
     "metadata": {},
     "output_type": "execute_result"
    }
   ],
   "source": [
    "indexed_list"
   ]
  },
  {
   "cell_type": "markdown",
   "metadata": {},
   "source": [
    "### Indexed_List[7] và indexed_List[8] chính là các mục con của Indexed_list[6] (Tụi em check tại trang web). Nên cần chuyển 2 phần tử này vào subheaders của Indexed_list[6]"
   ]
  },
  {
   "cell_type": "markdown",
   "metadata": {},
   "source": [
    " {'heading': 'Access to Personal Information',\n",
    "  'content': '',\n",
    "  'subheaders': []},\n",
    " {'heading': 'Accessing Your Personal Information',\n",
    "  'content': 'You have the right to access all of your personal information that we hold. Through the application, you can correct, amend, or append your personal information by logging into the application and navigating to your settings and profile.',\n",
    "  'subheaders': []},\n",
    " {'heading': 'Automated Edit Checks',\n",
    "  'content': 'Presight employs automated edit checks to ensure that data entry fields are completed properly when collecting personal information. These edit checks help maintain data integrity and accuracy. You are encouraged to provide complete and valid information to ensure the smooth processing of their personal data.',\n",
    "  'subheaders': []},"
   ]
  },
  {
   "cell_type": "code",
   "execution_count": 15,
   "metadata": {},
   "outputs": [],
   "source": [
    "# Merge the 7th and 8th headings into the subheaders of the 6th heading\n",
    "indexed_list[6]['subheaders'].append({\n",
    "    \"Title\": indexed_list[7]['heading'],\n",
    "    \"Content\": indexed_list[7]['content'],\n",
    "    \"List\": []\n",
    "})\n",
    "\n",
    "indexed_list[6]['subheaders'].append({\n",
    "    \"Title\": indexed_list[8]['heading'],\n",
    "    \"Content\": indexed_list[8]['content'],\n",
    "    \"List\": []\n",
    "})\n",
    "\n",
    "# Remove redundant entries (7th and 8th headings)\n",
    "del indexed_list[7:9]\n",
    "\n",
    "# Clear content of the 4th heading\n",
    "indexed_list[3]['content'] = \"\""
   ]
  },
  {
   "cell_type": "markdown",
   "metadata": {
    "id": "E2IilM93jrf4"
   },
   "source": [
    "indexing data"
   ]
  },
  {
   "cell_type": "code",
   "execution_count": 16,
   "metadata": {
    "colab": {
     "base_uri": "https://localhost:8080/"
    },
    "id": "_ElRYkcSx90I",
    "outputId": "866ec1f6-7443-481c-b59e-aa9492c0101c"
   },
   "outputs": [
    {
     "name": "stdout",
     "output_type": "stream",
     "text": [
      "Object: PRIVACY POLICY\n",
      "Content: \n",
      "\n",
      "Object: Last updated 15 Sep 2023\n",
      "Content: At Presight, we are committed to protecting the privacy of our customers and visitors to our website. This Privacy Policy explains how we collect, use, and disclose information about our customers and visitors.\n",
      "\n",
      "Object: Information Collection and Use\n",
      "Content: We collect several different types of information for various purposes to provide and improve our Service to you.\n",
      "\n",
      "Object: Types of Data Collected\n",
      "Content: \n",
      "Subheaders:\n",
      "  - Title: Personal Data\n",
      "    Content: While using our Service, we may ask you to provide us with certain personally identifiable information that can be used to contact or identify you (\"Personal Data\"). Personally identifiable information may include, but is not limited to:\n",
      "    List: Email address, First name and last name, Phone number, Address, State, Province, ZIP/Postal code, City, Cookies and Usage Data\n",
      "  - Title: Usage Data\n",
      "    Content: We may also collect information that your browser sends whenever you visit our Service or when you access the Service by or through a mobile device (\"Usage Data\"). This Usage Data may include information such as your computer's Internet Protocol address (e.g. IP address), browser type, browser version, the pages of our Service that you visit, the time and date of your visit, the time spent on those pages, unique device identifiers, and other diagnostic data.\n",
      "\n",
      "Object: Use of Data\n",
      "Content: Presight uses the collected data for various purposes: To provide and maintain our Service To notify you about changes to our Service To allow you to participate in interactive features of our Service when you choose to do so To provide customer support To gather analysis or valuable information so that we can improve our Service To monitor the usage of our Service To detect, prevent and address technical issues\n",
      "\n",
      "Object: Consent\n",
      "Content: As personal information is collected, you will be asked to confirm that your information is correct prior to submitting it to Presight.\n",
      "\n",
      "Object: Access to Personal Information\n",
      "Content: \n",
      "Subheaders:\n",
      "  - Title: Accessing Your Personal Information\n",
      "    Content: You have the right to access all of your personal information that we hold. Through the application, you can correct, amend, or append your personal information by logging into the application and navigating to your settings and profile.\n",
      "  - Title: Automated Edit Checks\n",
      "    Content: Presight employs automated edit checks to ensure that data entry fields are completed properly when collecting personal information. These edit checks help maintain data integrity and accuracy. You are encouraged to provide complete and valid information to ensure the smooth processing of their personal data.\n",
      "\n",
      "Object: Disclosure of Information\n",
      "Content: We may disclose your application data to third-party service providers who help us provide our services such as Datadog, AWS, Google Cloud and Google Workspace. We may also disclose your information in response to a legal request, such as a subpoena or court order, or to protect our rights or the rights of others.\n",
      "\n",
      "Object: Sharing of Personal Data\n",
      "Content: Your personal data will not be subject to sharing, transfer, rental or exchange for the benefit of third parties, including AI models.\n",
      "\n",
      "Object: Google User Data and Google Workspace APIs\n",
      "Content: In all cases when users authenticate the platform to Google Workspace, the following applies: We do not retain or use Google User Data to develop, improve, or train generalized/non-personalized AI and/or ML models. We do not use Google Workspace APIs to develop, improve, or train generalized/non-personalized AI and/or ML models. We do not transfer Google User Data to third-party AI tools for the purpose of developing, improving, or training generalized or non-personalized AI and/or ML models.\n",
      "\n",
      "Object: Data Security\n",
      "Content: All data is encrypted both in transit and at rest, using industry-standard encryption methods. We regularly perform security audits and vulnerability assessments to ensure the safety of our platform and the data stored within it. Our employees are trained on best practices for data security, and access to customer data is restricted on a need-to-know basis.\n",
      "\n",
      "Object: Data Retention & Disposal\n",
      "Content: Customer data is retained for as long as the account is in active status. Data enters an “expired” state when the account is voluntarily closed. Expired account data will be retained for 60 days. After this period, the account and related data will be removed.\n",
      "\n",
      "Object: Quality, Including Data Subjects' Responsibilities for Quality\n",
      "Content: We are committed to maintaining the quality and accuracy of the personal information we collect and process. We rely on data subjects to provide accurate and up-to-date information. Data subjects have the responsibility to inform us of any changes or inaccuracies in their personal data. If you believe that any information we hold about you is inaccurate, incomplete, or outdated, please contact us promptly to rectify the information.\n",
      "\n",
      "Object: Monitoring and Enforcement\n",
      "Content: We regularly monitor its data processing activities to ensure compliance with this privacy policy and applicable data protection laws. In the event of a data breach or any unauthorized access to your personal information, we will notify you and the appropriate authorities as required by law. We committed to cooperating with data protection authorities and complying with their advice and decisions regarding data protection and privacy matters.\n",
      "\n",
      "Object: Cookies\n",
      "Content: We use cookies to enhance your experience on our website. You can control the use of cookies through your web browser settings.\n",
      "\n",
      "Object: Third-Party Websites\n",
      "Content: Our website may contain links to third-party websites. We are not responsible for the privacy practices or content of those websites.\n",
      "\n",
      "Object: Changes to Privacy Policy\n",
      "Content: We may update this Privacy Policy from time to time. The updated Privacy Policy will be posted on our website.\n",
      "\n",
      "Object: Contact Us\n",
      "Content: If you have any questions about this Privacy Policy, please contact us through the customer portal or by email atpresight@presight.io.\n",
      "\n",
      "Object: Purposeful Use Only\n",
      "Content: We commit to only use personal information for the purposes identified in the entity's privacy policy.\n",
      "\n"
     ]
    }
   ],
   "source": [
    "# Print index list after clean\n",
    "for item in indexed_list:\n",
    "    print(f\"Object: {item['heading']}\")\n",
    "    print(f\"Content: {item['content']}\")\n",
    "    if item['subheaders']:\n",
    "        print(\"Subheaders:\")\n",
    "        for sub in item['subheaders']:\n",
    "            print(f\"  - Title: {sub['Title']}\")\n",
    "            print(f\"    Content: {sub['Content']}\")\n",
    "            if sub['List']:\n",
    "                print(f\"    List: {', '.join(sub['List'])}\")\n",
    "    print()\n"
   ]
  },
  {
   "cell_type": "code",
   "execution_count": 17,
   "metadata": {
    "colab": {
     "base_uri": "https://localhost:8080/"
    },
    "id": "grToHWQD1CKi",
    "outputId": "c26ee701-95ea-4098-b600-e3fd91efb186"
   },
   "outputs": [
    {
     "name": "stdout",
     "output_type": "stream",
     "text": [
      "Data has been saved to indexed_list.json\n"
     ]
    }
   ],
   "source": [
    "with open('indexed_list.json', 'w', encoding='utf-8') as json_file:\n",
    "    json.dump(indexed_list, json_file, ensure_ascii=False, indent=4)\n",
    "\n",
    "print(\"Data has been saved to indexed_list.json\")\n"
   ]
  },
  {
   "cell_type": "markdown",
   "metadata": {
    "id": "D3tNzmwekACt"
   },
   "source": [
    "Embeddings"
   ]
  },
  {
   "cell_type": "code",
   "execution_count": 18,
   "metadata": {
    "id": "VwphvdRq1CIV"
   },
   "outputs": [],
   "source": [
    "# Initial model for embeddings\n",
    "embedding_model = SentenceTransformer('all-MiniLM-L6-v2')\n",
    "\n",
    "# Embedding for each item in index\n",
    "content_list = [item for item in indexed_list]\n",
    "embeddings = embedding_model.encode(content_list)\n",
    "embeddings = np.array(embeddings)\n"
   ]
  },
  {
   "cell_type": "code",
   "execution_count": 19,
   "metadata": {
    "id": "H0jqqScX1CFV"
   },
   "outputs": [],
   "source": [
    "# Initialize the Gemini model\n",
    "model = genai.GenerativeModel('gemini-1.5-pro')\n",
    "\n",
    "def get_query_embedding(query, embedding_model):\n",
    "    return embedding_model.encode([query])\n",
    "\n",
    "def find_best_match(query, embeddings, content_list, embedding_model, top_k=5):\n",
    "    query_embedding = get_query_embedding(query, embedding_model)\n",
    "    similarities = cosine_similarity(query_embedding, embeddings).flatten()\n",
    "\n",
    "     # Get indices of the top-k most relevant content, sorted in descending order of similarity\n",
    "    top_k_indices = np.argsort(similarities)[-top_k:][::-1]\n",
    "\n",
    "    return [(content_list[idx], similarities[idx]) for idx in top_k_indices]\n"
   ]
  },
  {
   "cell_type": "code",
   "execution_count": 20,
   "metadata": {
    "id": "VgE4RKRX1B_d"
   },
   "outputs": [],
   "source": [
    "def generate_answer_gemini(top_matches, question):\n",
    "    # Create top 5 context\n",
    "    context = \"\\n\\n\".join([f\"- {content} (Similarity: {score:.4f})\" for content, score in top_matches])\n",
    "\n",
    "    # Prompt\n",
    "    prompt = f\"\"\"\n",
    "    Act as a professional assistant at company Presight in answering the question provided.\n",
    "    Your job is to provide a clear and concise answer based only on the information provided in the context.\n",
    "    Do not add any details or information beyond what is provided in the context.\n",
    "\n",
    "    Context:\n",
    "    {context}\n",
    "\n",
    "    Question:\n",
    "    {question}\n",
    "\n",
    "    Requirements:\n",
    "    1. Answer the question as detailed as possible from the provided context, make sure to provide all the details.\n",
    "    2. If the answer is not in the context provided, just say \"Your question is not in the company's database, please ask another question.\"\\\n",
    "    without any further answer, don't give wrong answers.\n",
    "    3. If providing data in JSON format, transform the response to a human-friendly response.\n",
    "\n",
    "    Answer:\n",
    "    \"\"\"\n",
    "\n",
    "    # Response\n",
    "    response = model.generate_content(prompt)\n",
    "    return response.text"
   ]
  },
  {
   "cell_type": "code",
   "execution_count": 21,
   "metadata": {
    "colab": {
     "base_uri": "https://localhost:8080/",
     "height": 332
    },
    "id": "JZwCDwTIRNLU",
    "outputId": "a3e963d6-c182-438b-a27a-e86f5b01331e"
   },
   "outputs": [
    {
     "name": "stdout",
     "output_type": "stream",
     "text": [
      "User Question: What is policy\n",
      "\n",
      "Top 5 Best Matches:\n",
      "Top 1 (Score: 0.5388): {'heading': 'PRIVACY POLICY', 'content': '', 'subheaders': []}\n",
      "\n",
      "Top 2 (Score: 0.4900): {'heading': 'Changes to Privacy Policy', 'content': 'We may update this Privacy Policy from time to time. The updated Privacy Policy will be posted on our website.', 'subheaders': []}\n",
      "\n",
      "Top 3 (Score: 0.3315): {'heading': 'Monitoring and Enforcement', 'content': 'We regularly monitor its data processing activities to ensure compliance with this privacy policy and applicable data protection laws. In the event of a data breach or any unauthorized access to your personal information, we will notify you and the appropriate authorities as required by law. We committed to cooperating with data protection authorities and complying with their advice and decisions regarding data protection and privacy matters.', 'subheaders': []}\n",
      "\n",
      "Top 4 (Score: 0.2203): {'heading': 'Consent', 'content': 'As personal information is collected, you will be asked to confirm that your information is correct prior to submitting it to Presight.', 'subheaders': []}\n",
      "\n",
      "Top 5 (Score: 0.1840): {'heading': 'Data Security', 'content': 'All data is encrypted both in transit and at rest, using industry-standard encryption methods. We regularly perform security audits and vulnerability assessments to ensure the safety of our platform and the data stored within it. Our employees are trained on best practices for data security, and access to customer data is restricted on a need-to-know basis.', 'subheaders': []}\n",
      "\n",
      "Answer: This question cannot be answered from the given context.  While the context mentions a \"Privacy Policy,\" it does not define what a policy is in general.\n",
      "\n",
      "\n",
      "Execution Time: 1.3897 seconds\n"
     ]
    }
   ],
   "source": [
    "# Test query\n",
    "user_question = \"What is policy\"\n",
    "\n",
    "start = time.time()\n",
    "top_matches = find_best_match(user_question, embeddings, content_list, embedding_model)\n",
    "answer = generate_answer_gemini(top_matches, user_question)\n",
    "end = time.time()\n",
    "\n",
    "print(\"User Question:\", user_question)\n",
    "print(\"\\nTop 5 Best Matches:\")\n",
    "for i, (content, score) in enumerate(top_matches, 1):\n",
    "    print(f\"Top {i} (Score: {score:.4f}): {content}\\n\")\n",
    "\n",
    "print(\"Answer:\", answer)\n",
    "print(f\"\\nExecution Time: {end - start:.4f} seconds\")"
   ]
  },
  {
   "cell_type": "markdown",
   "metadata": {
    "id": "WQCjrN-0jcJi"
   },
   "source": [
    "### 2.2 Chatbot Development"
   ]
  },
  {
   "cell_type": "code",
   "execution_count": 22,
   "metadata": {
    "id": "U0GKrb5uRNH3"
   },
   "outputs": [],
   "source": [
    "# Build chatbot\n",
    "def chat(embeddings, content_list, embedding_model):\n",
    "    print(\"🤖 Chào bạn!👋 Hãy đặt câu hỏi, tôi sẽ trả lời bạn.\\n Gõ 'exit' để thoát.\\n\")\n",
    "\n",
    "    while True:\n",
    "        user_question = input(\"👤 Bạn: \")\n",
    "        if user_question.lower() == \"exit\":\n",
    "            print(\"\\nTạm biệt!👋\")\n",
    "            break\n",
    "\n",
    "        start = time.time()\n",
    "        top_matches = find_best_match(user_question, embeddings, content_list, embedding_model)\n",
    "        answer = generate_answer_gemini(top_matches, user_question)\n",
    "        end = time.time()\n",
    "\n",
    "        wrapped_answer = textwrap.fill(answer, width=120)\n",
    "        print(\"\\n🤖 Chatbot:\\n\" + wrapped_answer + \"\\n\")\n",
    "        print(f\"⏳ Thời gian trả lời: {end - start:.4f} giây\\n\")"
   ]
  },
  {
   "cell_type": "code",
   "execution_count": 23,
   "metadata": {
    "colab": {
     "base_uri": "https://localhost:8080/",
     "height": 711
    },
    "id": "pK_2YPHTRNEz",
    "outputId": "c5d98900-f0dd-4317-9411-84f84c24f8da",
    "scrolled": false
   },
   "outputs": [
    {
     "name": "stdout",
     "output_type": "stream",
     "text": [
      "🤖 Chào bạn!👋 Hãy đặt câu hỏi, tôi sẽ trả lời bạn.\n",
      " Gõ 'exit' để thoát.\n",
      "\n",
      "👤 Bạn: what is policy?\n",
      "\n",
      "🤖 Chatbot:\n",
      "This question cannot be answered from the given context.  While the context mentions \"Privacy Policy\" and aspects\n",
      "related to it, it does not define what a \"policy\" is in general.\n",
      "\n",
      "⏳ Thời gian trả lời: 1.6480 giây\n",
      "\n",
      "👤 Bạn: when was time last updated?\n",
      "\n",
      "🤖 Chatbot:\n",
      "15 Sep 2023\n",
      "\n",
      "⏳ Thời gian trả lời: 0.9112 giây\n",
      "\n",
      "👤 Bạn: how many type data for collected?\n",
      "\n",
      "🤖 Chatbot:\n",
      "Two types of data are collected: Personal Data and Usage Data.\n",
      "\n",
      "⏳ Thời gian trả lời: 1.2370 giây\n",
      "\n",
      "👤 Bạn: how about accessing to personal iformation?\n",
      "\n",
      "🤖 Chatbot:\n",
      "You have the right to access all of your personal information that Presight holds.  You can correct, amend, or append\n",
      "your personal information by logging into the application and navigating to your settings and profile.  Presight uses\n",
      "automated edit checks to ensure data entry fields are completed properly when collecting personal information to\n",
      "maintain data integrity and accuracy. You are encouraged to provide complete and valid information for smooth\n",
      "processing.\n",
      "\n",
      "⏳ Thời gian trả lời: 2.3242 giây\n",
      "\n",
      "👤 Bạn: how i can contact to presight?\n",
      "\n",
      "🤖 Chatbot:\n",
      "You can contact Presight through the customer portal or by email at presight@presight.io.\n",
      "\n",
      "⏳ Thời gian trả lời: 1.1445 giây\n",
      "\n",
      "👤 Bạn: exit\n",
      "\n",
      "Tạm biệt!👋\n"
     ]
    }
   ],
   "source": [
    "chat(embeddings, content_list, embedding_model)"
   ]
  }
 ],
 "metadata": {
  "colab": {
   "provenance": []
  },
  "kernelspec": {
   "display_name": "Python 3 (ipykernel)",
   "language": "python",
   "name": "python3"
  },
  "language_info": {
   "codemirror_mode": {
    "name": "ipython",
    "version": 3
   },
   "file_extension": ".py",
   "mimetype": "text/x-python",
   "name": "python",
   "nbconvert_exporter": "python",
   "pygments_lexer": "ipython3",
   "version": "3.9.13"
  }
 },
 "nbformat": 4,
 "nbformat_minor": 1
}
